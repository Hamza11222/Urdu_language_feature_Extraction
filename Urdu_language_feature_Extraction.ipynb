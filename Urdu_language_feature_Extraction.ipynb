{
  "nbformat": 4,
  "nbformat_minor": 0,
  "metadata": {
    "colab": {
      "name": "cle_task.ipynb",
      "provenance": []
    },
    "kernelspec": {
      "name": "python3",
      "display_name": "Python 3"
    },
    "language_info": {
      "name": "python"
    }
  },
  "cells": [
    {
      "cell_type": "code",
      "metadata": {
        "id": "_U1qiFXBRoSE"
      },
      "source": [
        "import numpy as np\n",
        "import pandas as pd\n",
        "from sklearn.feature_extraction.text import CountVectorizer\n",
        "from sklearn.feature_extraction.text import TfidfVectorizer"
      ],
      "execution_count": null,
      "outputs": []
    },
    {
      "cell_type": "code",
      "metadata": {
        "colab": {
          "resources": {
            "http://localhost:8080/nbextensions/google.colab/files.js": {
              "data": "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",
              "ok": true,
              "headers": [
                [
                  "content-type",
                  "application/javascript"
                ]
              ],
              "status": 200,
              "status_text": ""
            }
          },
          "base_uri": "https://localhost:8080/",
          "height": 72
        },
        "id": "AZXDKJ3iR2ZV",
        "outputId": "feb1faf1-a4a3-4feb-d992-42c89e8b3eb0"
      },
      "source": [
        "from google.colab import files\n",
        "uploaded = files.upload()"
      ],
      "execution_count": null,
      "outputs": [
        {
          "output_type": "display_data",
          "data": {
            "text/html": [
              "\n",
              "     <input type=\"file\" id=\"files-eb129fa2-7d55-4f37-91ac-1e0a0db00560\" name=\"files[]\" multiple disabled\n",
              "        style=\"border:none\" />\n",
              "     <output id=\"result-eb129fa2-7d55-4f37-91ac-1e0a0db00560\">\n",
              "      Upload widget is only available when the cell has been executed in the\n",
              "      current browser session. Please rerun this cell to enable.\n",
              "      </output>\n",
              "      <script src=\"/nbextensions/google.colab/files.js\"></script> "
            ],
            "text/plain": [
              "<IPython.core.display.HTML object>"
            ]
          },
          "metadata": {}
        },
        {
          "output_type": "stream",
          "name": "stdout",
          "text": [
            "Saving Urdu.txt to Urdu.txt\n"
          ]
        }
      ]
    },
    {
      "cell_type": "code",
      "metadata": {
        "colab": {
          "base_uri": "https://localhost:8080/"
        },
        "id": "84V0KNBWR3Cn",
        "outputId": "f2ff2ac0-7cd3-47fe-ae45-7a6c79b0f33a"
      },
      "source": [
        "example1 = \"Urdu.txt\"\n",
        "file1 = open(example1, \"r+\")\n",
        "file1 = file1.read()\n",
        "print(file1)"
      ],
      "execution_count": null,
      "outputs": [
        {
          "output_type": "stream",
          "name": "stdout",
          "text": [
            "عالمی مالیاتی ادارے کی جانب سے پاکستان سمیت دنیا کی بیشتر معیشتوں کے بارے میں پیش گوئی اس وقت سامنے آئی ہے جب پاکستان آئی ایم ایف کے ساتھ اپنے معطل شدہ پروگرام کی بحالی کے لیے مذاکرات کرنے جا رہا ہے تاکہ اس کے تحت ملک کو ایک ارب ڈالر قرض کی قسط جاری ہو سکے جو آئی ایم ایف کے پاکستان کے لیے ’ایکسٹنڈڈ فنانسنگ فیسلٹی‘ پروگرام کے تحت مذاکرات کی کامیابی کی صورت میں جاری ہو گی۔\n"
          ]
        }
      ]
    },
    {
      "cell_type": "code",
      "metadata": {
        "colab": {
          "resources": {
            "http://localhost:8080/nbextensions/google.colab/files.js": {
              "data": "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",
              "ok": true,
              "headers": [
                [
                  "content-type",
                  "application/javascript"
                ]
              ],
              "status": 200,
              "status_text": ""
            }
          },
          "base_uri": "https://localhost:8080/",
          "height": 72
        },
        "id": "xPdBB2I6Sp5Q",
        "outputId": "eb399e6f-9a8a-4e46-8990-54dee753135d"
      },
      "source": [
        "from google.colab import files\n",
        "uploaded = files.upload()"
      ],
      "execution_count": null,
      "outputs": [
        {
          "output_type": "display_data",
          "data": {
            "text/html": [
              "\n",
              "     <input type=\"file\" id=\"files-25463cc4-0efd-43f4-b828-41523058889b\" name=\"files[]\" multiple disabled\n",
              "        style=\"border:none\" />\n",
              "     <output id=\"result-25463cc4-0efd-43f4-b828-41523058889b\">\n",
              "      Upload widget is only available when the cell has been executed in the\n",
              "      current browser session. Please rerun this cell to enable.\n",
              "      </output>\n",
              "      <script src=\"/nbextensions/google.colab/files.js\"></script> "
            ],
            "text/plain": [
              "<IPython.core.display.HTML object>"
            ]
          },
          "metadata": {}
        },
        {
          "output_type": "stream",
          "name": "stdout",
          "text": [
            "Saving stopwords (1).txt to stopwords (1).txt\n"
          ]
        }
      ]
    },
    {
      "cell_type": "code",
      "metadata": {
        "colab": {
          "base_uri": "https://localhost:8080/"
        },
        "id": "UaPLBCpNS1VR",
        "outputId": "a440ab21-a7e0-4655-8885-547ec2e62009"
      },
      "source": [
        "example1 = \"stopwords (1).txt\"\n",
        "stop_word = open(example1, \"r+\")\n",
        "stop_word = stop_word.read()\n",
        "print(stop_word)"
      ],
      "execution_count": null,
      "outputs": [
        {
          "output_type": "stream",
          "name": "stdout",
          "text": [
            "﻿اُنھوں:جائے:کو:کیا:کیوں:کون:کس:کسے:کن:کنہیں:کونسی:کونسے:کونسا:کوئی:کچھ:کسی:بعض:بعضے:فلاں:کل:چند:سب:ہر:سبھی:جیسا:جیسی:جیسے:وہ:جیسوں:میرا:میری:میرے:میروں:مرا:مری:مرے:تمہارا:تمہاری:تمہارے:تمہاروں:تیرا:ترا:تری:ترے:تیری:تیرے:تیروں:ہمارا:ہماری:ہمارے:ہماروں:اسکا:اسکی:اسکے:انکا:انکی:مجھ:مجھے:مجھی:آپ:تم:تمہیں:تجھ:تجھے:تجھی:ہم:ہمیں:ہمی:اس:اسے:انہیں:انہوں:کب:کہاں:کدھر:یہ:‌وہ:جنہوں:جدھر:جہاں:جو:جس:جسے:جن:جنہیں:انکے:خود:اپنےآپ:اپنی:اپنے:اپنا:اپنوں:ان:یہی:وہی:اسی:انہی:ایسا:ویسا:کیسا:چنانچہ:حالانکہ:تاکہ:بشرطیکہ:اس لیے:ہرچند:پس:نیز:پر:خواه:اگر:وگرنہ:کیونکر:ولے:تب:کیونکہ:گو:تاہم:لیکن:یا:ورنہ:اور:البتہ:تو:سو:و:مگر:بلکہ:اگرچہ:چونکہ:کہ:لہذا:پہ:سے:نے:کو:کا:کی:کے:گا:گی:گے:تھا:تھے:تھی:تھیں:ہے:ہیں:ہو:ہوں:خاطر:سمیت:فقط:محض:فی:از:دریں:قبل:واسطے:تک:تلک:میں:تا:با:علاوه:بجز:ماسوا:بنا:جز:بغیر:سوائے:الا:قطعا:مطلق:ہرگز:سراسر:صرف:ضرور:بالکل:بالضرور:بےشک:جی:ہاں:نہیں:نا:مت:لا:بے:نہ:مانند:مثل:ہوبہو:گویا:نما:طرح:سا:سی:ایسے:سہی:بھی:ہی:تھو:اخاه:اہاہا:ہائیں:ہائے:آہا:چھی:افوه:اف:آه:اوہو:واه:اب:یعنی:ری:اوئے:ابے:ارے:اری:رے:او:اجی:اے:نے:اس:آ:نے:﻿اس:آ:میں:پبئے:ہوبری:طرف:ثہت:گئے:اپٌے:گی:خو:اثھی:پر:ہر:ضے:ثھی:گب:کت:گیب:دوضری:اپٌب:تھی:وٍ:ضکتے:ثعذ:ہے:لگیں:گے:دی:اش:تھب:ًے:ضکتی:ثدبئے:یہ:والے:لئے:دیب:اى:تو:ًہیں:ضکتب:ثبہر:ہوًے:ہوبرا:لگی:رریعے:اًذر:کیب:توبم:ہوبرے:کب:ہوں:ہوضکتب:لگے:رہب:اور:کی:تک:ہو:کریں:ہیں:ہوضکتی:هگر:رہی:ایطے:ہوا:کہ:تت:ہوًب:کیطے:ہوضکتے:هیں:رہے:ایک:کے:خت:ًہ:ہوتب:کیوں:تھے:ًب:ضبتھ:آئے:خب:ثبرے:رریعے:کوئی:کیطب:رکھ:خبرہے:ثغیر:پھر:کطی:رریعہ:خبرہب:ثراں:کیطرف:رکھتب:خجکہ:ثلکہ:اضطرذ:کررہی:دوضرے:توہیں:ثبئیں:کیلئے:رکھتبہوں:خص:ثٌذ:اضکب:ثرآں:خبرہی:کررہے:دوًوں:کیوًکہ:رکھتی:خوکہ:ثیچ:اضکی:یہبں:کررہب:دوراى:توہی:کےثعذ:رکھتے:خیطب:پچھلا:اضکے:ضکب:دوضروں:زکویہ:چکے:تھوڑا:پطٌذ:ثي:اًہیں:ٓ::آش:ضکٌب:دیتب:خبهوظ:چلا:تھوڑی:پل:ثٌب:اوًچب:اة:ضکی:دیتی:ختن:چلو:تھوڑے:پوچھب:ثٌبرہب:اوًچبئی:اخبزت:ضکے:دیتے:در:چلیں:تیي:پوچھتب:ثٌبرہی:اوًچی:اچھب:ضلطلہ:دیر:درخبت:چلے:خبًب:پوچھتی:ثٌبرہے:اوًچے:اچھی:ضوچ:دیکھٌب:درخہ:چھوٹب:خبًتب:پوچھتے:ثٌبًب:اٹھبًب:اچھے:ضوچب:دیکھو:درخے:چھوٹوں:خبًتی:پوچھٌب:ثٌذ:اہن:اختتبم:ضوچتب:دیکھی:درزقیقت:چھوٹی:خبًتے:پوچھو:ثٌذکرًب:آئی:ادھر:ضوچتی:دیکھیں:درضت:چھوٹے:خبًٌب:پوچھوں:ثٌذکرو:آئے:ارد:ضوچتے:دیٌب:دش:چھہ:خططرذ:پوچھیں:ثٌذی:آج:اردگرد:ضوچٌب:دے:دفعہ:چیسیں:خگہ:پورا:ثڑا:آخر:ارکبى:ضوچو:راضتوں:دکھبئیں:زبصل:خگہوں:پہلا:ثڑوں:آخرکبر:اضتعوبل:ضوچی:راضتہ:دکھبتب:زبضر:خگہیں:پہلی:ثڑی:آدهی:اضتعوبلات:ضوچیں:راضتے:دکھبتی:زبل:خلذی:پہلےضی:ثڑے:آًب:اغیب:ضیذھب:رکي:دکھبتے:زبل:خٌبة:پہلےضے:ثھر:آٹھ:اطراف:ضیذھی:رکھب:دکھبًب:زبلات:خواى:پہلےضےہی:ثھرا:آیب:افراد:ضیذھے:رکھی:دکھبو:زبلیہ:خوًہی:پیع:ثھراہوا:ثب:اکثر:ضیکٌڈ:رکھے:دکھبیب:زصوں:خیطبکہ:تبزٍ:ثھرپور:ثبترتیت:اکٹھب:غبیذ:زیبدٍ:دلچطپ:زصہ:چبر:تر:ثہتر:ثبری:اکٹھی:غخص:ضبت:دلچطپی:زصے:چبہب:ترتیت:ثہتری:ثبلا:اکٹھے:غذ:ضبدٍ:دلچطپیبں:زقبئق:چبہٌب:تریي:ثہتریي:ثبلترتیت:اکیلا:غروع:ضبرا:هٌبضت:زقیتیں:چبہے:تعذاد:پبش:ثرش:اکیلی:غروعبت:ضبرے:دو:زقیقت:چکب:تقریجباً:پبًب:ثغیر:اکیلے:غے:ضبل:دور:زکن:چکی:تن:پبًچ:ثلٌذ:اگرچہ:صبف:ضبلوں:دوضرا:زکوباً:چکیں:تٌہب:پراًب:ثلٌذوثبلا:الگ:کہتے:کرتی:طریق:ًیب:هطئلے:لازهی:کوًطے:قجیلہ:صسیر:کہٌب:کرتے:طریقوں:وار:هطبئل:لگتب:کھولا:قطن:صفر:کہٌب:کرتےہو:طریقہ:وار:هطتعول:لگتی:کھولٌب:کئی:صورت:کہو:کرًب:طریقے:ٹھیک:هػتول:لگتے:کھولو:کئے:صورتسبل:کہوں:کرو:طور:ڈھوًڈا:هطلق:لگٌب:کھولی:کبفی:صورتوں:کہی:کریں:طورپر:ڈھوًڈلیب:هعلوم:لگی:کھولیں:کبم:صورتیں:کہیں:کرے:ظبہر:ڈھوًڈًب:هکول:لگے:کھولے:کجھی:ضرور:کہیں:کل:عذد:ڈھوًڈو:هلا:لوجب:کہب:کرا:ضرورت:کہے:کن:عظین:ڈھوًڈی:هوکي:لوجی:کہتب:کرتب:ضرورتباً:کیے:کوتر:علاقوں:ڈھوًڈیں:هوکٌبت:لوجے:کہتی:کرتبہوں:ضروری:کےرریعے:کورا:علاقہ:ہورہے:ًبپطٌذ:لے:ہن:هوکٌہ:لوسبت:گئی:کوروں:علاقے:ہوگئی:ًبگسیر:هتعلق:ہوئی:هڑا:لوسہ:گرد:کورٍ:علاوٍ:ہوگئے:ًطجت:هسترم:ہوئے:هڑًب:لو:گروپ:کورے:عووهباً:ہوگیب:ًقطہ:هسترهہ:ہوتی:هڑے:لوگ:گروٍ:کوطي:عووهی:ہوًی:ًکبلٌب:هسطوش:ہوتے:هہرثبى:لوگوں:گروہوں:کوى:فرد:ہی:ًکتہ:هختلف:ہوچکب:هیرا:لڑکپي:گٌتی:کوًطب:فی:یقیٌباً:ًو:هسیذ:ہوچکی:هیری:لی:لازهباً:کوًطی:قجل:یقیٌی:ًوخواى:هطئلہ:ہوچکے:هیرے:لیب:ضت:ثبعث:ہورہی:ًئے:لیں:ہورہب:ًئی:لیٌب:لیے\n"
          ]
        }
      ]
    },
    {
      "cell_type": "code",
      "metadata": {
        "colab": {
          "base_uri": "https://localhost:8080/"
        },
        "id": "1NVeHoBYTTC0",
        "outputId": "10259365-21fa-4057-c85a-fe86238250cb"
      },
      "source": [
        "import nltk\n",
        "from nltk.corpus import stopwords\n",
        "nltk.download('punkt')\n",
        "#nltk.download('stopwords')\n",
        "from nltk.tokenize import word_tokenize\n",
        "text_tokens = word_tokenize(file1)\n",
        "\n",
        "tokens_without_sw = [word for word in text_tokens if not word in stop_word]\n",
        "\n",
        "print(tokens_without_sw)\n",
        "df = pd.DataFrame(tokens_without_sw)\n",
        "print(df)"
      ],
      "execution_count": null,
      "outputs": [
        {
          "output_type": "stream",
          "name": "stdout",
          "text": [
            "[nltk_data] Downloading package punkt to /root/nltk_data...\n",
            "[nltk_data]   Package punkt is already up-to-date!\n",
            "['عالمی', 'مالیاتی', 'ادارے', 'جانب', 'پاکستان', 'دنیا', 'بیشتر', 'معیشتوں', 'بارے', 'پیش', 'گوئی', 'وقت', 'سامنے', 'پاکستان', 'ایم', 'ایف', 'ساتھ', 'معطل', 'شدہ', 'پروگرام', 'بحالی', 'مذاکرات', 'کرنے', 'رہا', 'تحت', 'ملک', 'ارب', 'ڈالر', 'قرض', 'قسط', 'جاری', 'ایم', 'ایف', 'پاکستان', '’', 'ایکسٹنڈڈ', 'فنانسنگ', 'فیسلٹی', '‘', 'پروگرام', 'تحت', 'مذاکرات', 'کامیابی', 'جاری', 'گی۔']\n",
            "           0\n",
            "0      عالمی\n",
            "1    مالیاتی\n",
            "2      ادارے\n",
            "3       جانب\n",
            "4    پاکستان\n",
            "5       دنیا\n",
            "6      بیشتر\n",
            "7    معیشتوں\n",
            "8       بارے\n",
            "9        پیش\n",
            "10      گوئی\n",
            "11       وقت\n",
            "12     سامنے\n",
            "13   پاکستان\n",
            "14       ایم\n",
            "15       ایف\n",
            "16      ساتھ\n",
            "17      معطل\n",
            "18       شدہ\n",
            "19   پروگرام\n",
            "20     بحالی\n",
            "21   مذاکرات\n",
            "22      کرنے\n",
            "23       رہا\n",
            "24       تحت\n",
            "25       ملک\n",
            "26       ارب\n",
            "27      ڈالر\n",
            "28       قرض\n",
            "29       قسط\n",
            "30      جاری\n",
            "31       ایم\n",
            "32       ایف\n",
            "33   پاکستان\n",
            "34         ’\n",
            "35  ایکسٹنڈڈ\n",
            "36   فنانسنگ\n",
            "37    فیسلٹی\n",
            "38         ‘\n",
            "39   پروگرام\n",
            "40       تحت\n",
            "41   مذاکرات\n",
            "42   کامیابی\n",
            "43      جاری\n",
            "44       گی۔\n"
          ]
        }
      ]
    },
    {
      "cell_type": "code",
      "metadata": {
        "colab": {
          "base_uri": "https://localhost:8080/"
        },
        "id": "Xe58bPPNSLw6",
        "outputId": "e590649f-45ef-419a-bba9-5712bb2776c5"
      },
      "source": [
        "vectorizer = CountVectorizer(binary=True)\n",
        "vectorizer.fit(df[0])\n",
        "print(len(vectorizer.vocabulary_))\n",
        "\n",
        "X_train_counts = vectorizer.transform(df[0])\n",
        "word_list = vectorizer.get_feature_names();    \n",
        "count_list = X_train_counts.toarray().sum(axis=0) \n",
        "print(word_list)\n",
        "print(count_list)"
      ],
      "execution_count": null,
      "outputs": [
        {
          "output_type": "stream",
          "name": "stdout",
          "text": [
            "35\n",
            "['ادارے', 'ارب', 'ایف', 'ایم', 'ایکسٹنڈڈ', 'بارے', 'بحالی', 'بیشتر', 'تحت', 'جاری', 'جانب', 'دنیا', 'رہا', 'ساتھ', 'سامنے', 'شدہ', 'عالمی', 'فنانسنگ', 'فیسلٹی', 'قرض', 'قسط', 'مالیاتی', 'مذاکرات', 'معطل', 'معیشتوں', 'ملک', 'وقت', 'پاکستان', 'پروگرام', 'پیش', 'ڈالر', 'کامیابی', 'کرنے', 'گوئی', 'گی']\n",
            "[1 1 2 2 1 1 1 1 2 2 1 1 1 1 1 1 1 1 1 1 1 1 2 1 1 1 1 3 2 1 1 1 1 1 1]\n"
          ]
        }
      ]
    },
    {
      "cell_type": "code",
      "metadata": {
        "colab": {
          "base_uri": "https://localhost:8080/"
        },
        "id": "8qnRxyHiU-U0",
        "outputId": "46987317-781a-41af-acfb-1c34313ff74c"
      },
      "source": [
        "words_count=dict(zip(word_list,count_list))\n",
        "print (words_count)"
      ],
      "execution_count": null,
      "outputs": [
        {
          "output_type": "stream",
          "name": "stdout",
          "text": [
            "{'ادارے': 1, 'ارب': 1, 'ایف': 2, 'ایم': 2, 'ایکسٹنڈڈ': 1, 'بارے': 1, 'بحالی': 1, 'بیشتر': 1, 'تحت': 2, 'جاری': 2, 'جانب': 1, 'دنیا': 1, 'رہا': 1, 'ساتھ': 1, 'سامنے': 1, 'شدہ': 1, 'عالمی': 1, 'فنانسنگ': 1, 'فیسلٹی': 1, 'قرض': 1, 'قسط': 1, 'مالیاتی': 1, 'مذاکرات': 2, 'معطل': 1, 'معیشتوں': 1, 'ملک': 1, 'وقت': 1, 'پاکستان': 3, 'پروگرام': 2, 'پیش': 1, 'ڈالر': 1, 'کامیابی': 1, 'کرنے': 1, 'گوئی': 1, 'گی': 1}\n"
          ]
        }
      ]
    },
    {
      "cell_type": "code",
      "metadata": {
        "colab": {
          "base_uri": "https://localhost:8080/"
        },
        "id": "tcWVxuH0aWZL",
        "outputId": "99e19d7f-23e9-43ce-83e4-b5c670a806f3"
      },
      "source": [
        "import operator\n",
        "sorted_words = dict(sorted(words_count.items(), key=operator.itemgetter(1),reverse=True))\n",
        "print(sorted_words)"
      ],
      "execution_count": null,
      "outputs": [
        {
          "output_type": "stream",
          "name": "stdout",
          "text": [
            "{'پاکستان': 3, 'ایف': 2, 'ایم': 2, 'تحت': 2, 'جاری': 2, 'مذاکرات': 2, 'پروگرام': 2, 'ادارے': 1, 'ارب': 1, 'ایکسٹنڈڈ': 1, 'بارے': 1, 'بحالی': 1, 'بیشتر': 1, 'جانب': 1, 'دنیا': 1, 'رہا': 1, 'ساتھ': 1, 'سامنے': 1, 'شدہ': 1, 'عالمی': 1, 'فنانسنگ': 1, 'فیسلٹی': 1, 'قرض': 1, 'قسط': 1, 'مالیاتی': 1, 'معطل': 1, 'معیشتوں': 1, 'ملک': 1, 'وقت': 1, 'پیش': 1, 'ڈالر': 1, 'کامیابی': 1, 'کرنے': 1, 'گوئی': 1, 'گی': 1}\n"
          ]
        }
      ]
    },
    {
      "cell_type": "code",
      "metadata": {
        "id": "67qzD6vicyLw"
      },
      "source": [
        "f = open(\"dict.txt\",\"w\")\n",
        "f.write( str(sorted_words) )\n",
        "f.close()"
      ],
      "execution_count": null,
      "outputs": []
    },
    {
      "cell_type": "code",
      "metadata": {
        "colab": {
          "base_uri": "https://localhost:8080/"
        },
        "id": "43dr47xfdNkT",
        "outputId": "bc967c1c-553e-4684-bd0a-f99154809316"
      },
      "source": [
        "file2 = open(\"dict.txt\", \"r+\")\n",
        "file2 = file2.read()\n",
        "print(file2)"
      ],
      "execution_count": null,
      "outputs": [
        {
          "output_type": "stream",
          "name": "stdout",
          "text": [
            "{'پاکستان': 3, 'ایف': 2, 'ایم': 2, 'تحت': 2, 'جاری': 2, 'مذاکرات': 2, 'پروگرام': 2, 'ادارے': 1, 'ارب': 1, 'ایکسٹنڈڈ': 1, 'بارے': 1, 'بحالی': 1, 'بیشتر': 1, 'جانب': 1, 'دنیا': 1, 'رہا': 1, 'ساتھ': 1, 'سامنے': 1, 'شدہ': 1, 'عالمی': 1, 'فنانسنگ': 1, 'فیسلٹی': 1, 'قرض': 1, 'قسط': 1, 'مالیاتی': 1, 'معطل': 1, 'معیشتوں': 1, 'ملک': 1, 'وقت': 1, 'پیش': 1, 'ڈالر': 1, 'کامیابی': 1, 'کرنے': 1, 'گوئی': 1, 'گی': 1}\n"
          ]
        }
      ]
    }
  ]
}